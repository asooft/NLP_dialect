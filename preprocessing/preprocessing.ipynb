{
 "cells": [
  {
   "attachments": {},
   "cell_type": "markdown",
   "metadata": {},
   "source": [
    "# NLP Project (Arabic Dialect Classification) Preprocessing"
   ]
  },
  {
   "attachments": {},
   "cell_type": "markdown",
   "metadata": {},
   "source": [
    "### Importing necessary libraries"
   ]
  },
  {
   "cell_type": "code",
   "execution_count": 1,
   "metadata": {},
   "outputs": [
    {
     "name": "stderr",
     "output_type": "stream",
     "text": [
      "[nltk_data] Downloading package stopwords to\n",
      "[nltk_data]     C:\\Users\\dell\\AppData\\Roaming\\nltk_data...\n",
      "[nltk_data]   Package stopwords is already up-to-date!\n"
     ]
    }
   ],
   "source": [
    "import pandas as pd\n",
    "\n",
    "import emoji\n",
    "import re\n",
    "import tashaphyne.normalize as normalize\n",
    "import nltk\n",
    "from nltk.tokenize import word_tokenize\n",
    "nltk.download('stopwords')\n",
    "from nltk.corpus import stopwords"
   ]
  },
  {
   "attachments": {},
   "cell_type": "markdown",
   "metadata": {},
   "source": [
    "### Reading the data and labels files"
   ]
  },
  {
   "cell_type": "code",
   "execution_count": 2,
   "metadata": {},
   "outputs": [
    {
     "data": {
      "text/html": [
       "<div>\n",
       "<style scoped>\n",
       "    .dataframe tbody tr th:only-of-type {\n",
       "        vertical-align: middle;\n",
       "    }\n",
       "\n",
       "    .dataframe tbody tr th {\n",
       "        vertical-align: top;\n",
       "    }\n",
       "\n",
       "    .dataframe thead th {\n",
       "        text-align: right;\n",
       "    }\n",
       "</style>\n",
       "<table border=\"1\" class=\"dataframe\">\n",
       "  <thead>\n",
       "    <tr style=\"text-align: right;\">\n",
       "      <th></th>\n",
       "      <th>id</th>\n",
       "      <th>text</th>\n",
       "    </tr>\n",
       "  </thead>\n",
       "  <tbody>\n",
       "    <tr>\n",
       "      <th>0</th>\n",
       "      <td>1009754958479151232</td>\n",
       "      <td>@toha_Altomy @gy_yah قليلين ادب ومنافقين. لو ا...</td>\n",
       "    </tr>\n",
       "    <tr>\n",
       "      <th>1</th>\n",
       "      <td>1009794751548313600</td>\n",
       "      <td>@AlmFaisal 😂😂 الليبيين متقلبين!!!\\nبس بالنسبة ...</td>\n",
       "    </tr>\n",
       "    <tr>\n",
       "      <th>2</th>\n",
       "      <td>1019989115490787200</td>\n",
       "      <td>@smsm071990 @ALMOGRBE كل 20 تانيه شاب ليبي بير...</td>\n",
       "    </tr>\n",
       "    <tr>\n",
       "      <th>3</th>\n",
       "      <td>1035479791758135168</td>\n",
       "      <td>@AboryPro @lyranoo85 رانيا عقليتك متخلفة. اولا...</td>\n",
       "    </tr>\n",
       "    <tr>\n",
       "      <th>4</th>\n",
       "      <td>1035481122921164800</td>\n",
       "      <td>@lyranoo85 شكلك متعقدة علشان الراجل لي تحبيه ا...</td>\n",
       "    </tr>\n",
       "  </tbody>\n",
       "</table>\n",
       "</div>"
      ],
      "text/plain": [
       "                    id                                               text\n",
       "0  1009754958479151232  @toha_Altomy @gy_yah قليلين ادب ومنافقين. لو ا...\n",
       "1  1009794751548313600  @AlmFaisal 😂😂 الليبيين متقلبين!!!\\nبس بالنسبة ...\n",
       "2  1019989115490787200  @smsm071990 @ALMOGRBE كل 20 تانيه شاب ليبي بير...\n",
       "3  1035479791758135168  @AboryPro @lyranoo85 رانيا عقليتك متخلفة. اولا...\n",
       "4  1035481122921164800  @lyranoo85 شكلك متعقدة علشان الراجل لي تحبيه ا..."
      ]
     },
     "execution_count": 2,
     "metadata": {},
     "output_type": "execute_result"
    }
   ],
   "source": [
    "data= pd.read_csv(r\"C:\\Users\\dell\\Downloads\\text.csv\", lineterminator='\\n')\n",
    "data.head()"
   ]
  },
  {
   "cell_type": "code",
   "execution_count": 3,
   "metadata": {},
   "outputs": [
    {
     "data": {
      "text/html": [
       "<div>\n",
       "<style scoped>\n",
       "    .dataframe tbody tr th:only-of-type {\n",
       "        vertical-align: middle;\n",
       "    }\n",
       "\n",
       "    .dataframe tbody tr th {\n",
       "        vertical-align: top;\n",
       "    }\n",
       "\n",
       "    .dataframe thead th {\n",
       "        text-align: right;\n",
       "    }\n",
       "</style>\n",
       "<table border=\"1\" class=\"dataframe\">\n",
       "  <thead>\n",
       "    <tr style=\"text-align: right;\">\n",
       "      <th></th>\n",
       "      <th>id</th>\n",
       "      <th>dialect</th>\n",
       "    </tr>\n",
       "  </thead>\n",
       "  <tbody>\n",
       "    <tr>\n",
       "      <th>0</th>\n",
       "      <td>1009754958479151232</td>\n",
       "      <td>LY</td>\n",
       "    </tr>\n",
       "    <tr>\n",
       "      <th>1</th>\n",
       "      <td>1009794751548313600</td>\n",
       "      <td>LY</td>\n",
       "    </tr>\n",
       "    <tr>\n",
       "      <th>2</th>\n",
       "      <td>1019989115490787200</td>\n",
       "      <td>LY</td>\n",
       "    </tr>\n",
       "    <tr>\n",
       "      <th>3</th>\n",
       "      <td>1035479791758135168</td>\n",
       "      <td>LY</td>\n",
       "    </tr>\n",
       "    <tr>\n",
       "      <th>4</th>\n",
       "      <td>1035481122921164800</td>\n",
       "      <td>LY</td>\n",
       "    </tr>\n",
       "  </tbody>\n",
       "</table>\n",
       "</div>"
      ],
      "text/plain": [
       "                    id dialect\n",
       "0  1009754958479151232      LY\n",
       "1  1009794751548313600      LY\n",
       "2  1019989115490787200      LY\n",
       "3  1035479791758135168      LY\n",
       "4  1035481122921164800      LY"
      ]
     },
     "execution_count": 3,
     "metadata": {},
     "output_type": "execute_result"
    }
   ],
   "source": [
    "labels= pd.read_csv(r\"C:\\Users\\dell\\Downloads\\dialect.csv\")\n",
    "labels.head()"
   ]
  },
  {
   "cell_type": "code",
   "execution_count": 4,
   "metadata": {},
   "outputs": [],
   "source": [
    "data = pd.merge(data, labels, on='id').sample(frac= 1)"
   ]
  },
  {
   "cell_type": "code",
   "execution_count": 5,
   "metadata": {},
   "outputs": [
    {
     "data": {
      "text/html": [
       "<div>\n",
       "<style scoped>\n",
       "    .dataframe tbody tr th:only-of-type {\n",
       "        vertical-align: middle;\n",
       "    }\n",
       "\n",
       "    .dataframe tbody tr th {\n",
       "        vertical-align: top;\n",
       "    }\n",
       "\n",
       "    .dataframe thead th {\n",
       "        text-align: right;\n",
       "    }\n",
       "</style>\n",
       "<table border=\"1\" class=\"dataframe\">\n",
       "  <thead>\n",
       "    <tr style=\"text-align: right;\">\n",
       "      <th></th>\n",
       "      <th>id</th>\n",
       "      <th>text</th>\n",
       "      <th>dialect</th>\n",
       "    </tr>\n",
       "  </thead>\n",
       "  <tbody>\n",
       "    <tr>\n",
       "      <th>55835</th>\n",
       "      <td>276858249440002048</td>\n",
       "      <td>@7ely طبعا الجبنه النستو نسيتك أصحابك</td>\n",
       "      <td>EG</td>\n",
       "    </tr>\n",
       "    <tr>\n",
       "      <th>109904</th>\n",
       "      <td>1173548858070224896</td>\n",
       "      <td>عفكرة ريحة عرقها بتسواك https://t.co/LMHBjxbXwN</td>\n",
       "      <td>LB</td>\n",
       "    </tr>\n",
       "    <tr>\n",
       "      <th>115073</th>\n",
       "      <td>991429222194401152</td>\n",
       "      <td>انا بس خلصت المباراة https://t.co/bozdGhWalF</td>\n",
       "      <td>LB</td>\n",
       "    </tr>\n",
       "    <tr>\n",
       "      <th>82486</th>\n",
       "      <td>860189352613347328</td>\n",
       "      <td>@amiraahmmed102 @han730oz لو الحب موجود هتتناز...</td>\n",
       "      <td>EG</td>\n",
       "    </tr>\n",
       "    <tr>\n",
       "      <th>15497</th>\n",
       "      <td>780331891878658048</td>\n",
       "      <td>@LyConsigliere  نظارة قراءة وله ضعف نظر باقي ا...</td>\n",
       "      <td>LY</td>\n",
       "    </tr>\n",
       "    <tr>\n",
       "      <th>71110</th>\n",
       "      <td>1120016606334259200</td>\n",
       "      <td>- رايحة بينا على فين يا مصر ؟ \\n- مش انا اللي ...</td>\n",
       "      <td>EG</td>\n",
       "    </tr>\n",
       "    <tr>\n",
       "      <th>28146</th>\n",
       "      <td>973698843819888640</td>\n",
       "      <td>@Dana90N ولوو اهم شي يكترو السهرنين</td>\n",
       "      <td>LY</td>\n",
       "    </tr>\n",
       "    <tr>\n",
       "      <th>69537</th>\n",
       "      <td>950812893322317824</td>\n",
       "      <td>@MariamAlAhmadi عمره مقبولة ان شاء الله 🙏🏼</td>\n",
       "      <td>EG</td>\n",
       "    </tr>\n",
       "    <tr>\n",
       "      <th>28664</th>\n",
       "      <td>701497230625259520</td>\n",
       "      <td>صراحة علي كبر الفرحة الي غامرتني من الانتصارات...</td>\n",
       "      <td>LY</td>\n",
       "    </tr>\n",
       "    <tr>\n",
       "      <th>84599</th>\n",
       "      <td>1129117968867168384</td>\n",
       "      <td>@MariomALIIIIL امال النكد فين مواعيده مش شايفه...</td>\n",
       "      <td>EG</td>\n",
       "    </tr>\n",
       "    <tr>\n",
       "      <th>125480</th>\n",
       "      <td>1151233481697046400</td>\n",
       "      <td>@arabqoute بقضي كل وقتي مع ولاد ولادي 😉</td>\n",
       "      <td>LB</td>\n",
       "    </tr>\n",
       "    <tr>\n",
       "      <th>141982</th>\n",
       "      <td>1058844480990797824</td>\n",
       "      <td>حظي في البلد دي نهائي ما عايز يظبط اليوم الوحي...</td>\n",
       "      <td>SD</td>\n",
       "    </tr>\n",
       "    <tr>\n",
       "      <th>94216</th>\n",
       "      <td>839188129462513664</td>\n",
       "      <td>لا ما هو واضح ان التعليم نضيف من النوعيات اللي...</td>\n",
       "      <td>EG</td>\n",
       "    </tr>\n",
       "    <tr>\n",
       "      <th>110023</th>\n",
       "      <td>1167022770104016896</td>\n",
       "      <td>@4zahri ما بطيقوا سميك َتقيل الدم</td>\n",
       "      <td>LB</td>\n",
       "    </tr>\n",
       "    <tr>\n",
       "      <th>33605</th>\n",
       "      <td>903969175168745600</td>\n",
       "      <td>@bianconere_news هههههههه كل يوم نزيد نتأكد ان...</td>\n",
       "      <td>LY</td>\n",
       "    </tr>\n",
       "  </tbody>\n",
       "</table>\n",
       "</div>"
      ],
      "text/plain": [
       "                         id  \\\n",
       "55835    276858249440002048   \n",
       "109904  1173548858070224896   \n",
       "115073   991429222194401152   \n",
       "82486    860189352613347328   \n",
       "15497    780331891878658048   \n",
       "71110   1120016606334259200   \n",
       "28146    973698843819888640   \n",
       "69537    950812893322317824   \n",
       "28664    701497230625259520   \n",
       "84599   1129117968867168384   \n",
       "125480  1151233481697046400   \n",
       "141982  1058844480990797824   \n",
       "94216    839188129462513664   \n",
       "110023  1167022770104016896   \n",
       "33605    903969175168745600   \n",
       "\n",
       "                                                     text dialect  \n",
       "55835               @7ely طبعا الجبنه النستو نسيتك أصحابك      EG  \n",
       "109904    عفكرة ريحة عرقها بتسواك https://t.co/LMHBjxbXwN      LB  \n",
       "115073       انا بس خلصت المباراة https://t.co/bozdGhWalF      LB  \n",
       "82486   @amiraahmmed102 @han730oz لو الحب موجود هتتناز...      EG  \n",
       "15497   @LyConsigliere  نظارة قراءة وله ضعف نظر باقي ا...      LY  \n",
       "71110   - رايحة بينا على فين يا مصر ؟ \\n- مش انا اللي ...      EG  \n",
       "28146                 @Dana90N ولوو اهم شي يكترو السهرنين      LY  \n",
       "69537          @MariamAlAhmadi عمره مقبولة ان شاء الله 🙏🏼      EG  \n",
       "28664   صراحة علي كبر الفرحة الي غامرتني من الانتصارات...      LY  \n",
       "84599   @MariomALIIIIL امال النكد فين مواعيده مش شايفه...      EG  \n",
       "125480            @arabqoute بقضي كل وقتي مع ولاد ولادي 😉      LB  \n",
       "141982  حظي في البلد دي نهائي ما عايز يظبط اليوم الوحي...      SD  \n",
       "94216   لا ما هو واضح ان التعليم نضيف من النوعيات اللي...      EG  \n",
       "110023                  @4zahri ما بطيقوا سميك َتقيل الدم      LB  \n",
       "33605   @bianconere_news هههههههه كل يوم نزيد نتأكد ان...      LY  "
      ]
     },
     "execution_count": 5,
     "metadata": {},
     "output_type": "execute_result"
    }
   ],
   "source": [
    "data.head(15)"
   ]
  },
  {
   "attachments": {},
   "cell_type": "markdown",
   "metadata": {},
   "source": [
    "### Our 5 Classes"
   ]
  },
  {
   "cell_type": "code",
   "execution_count": 6,
   "metadata": {},
   "outputs": [
    {
     "data": {
      "text/plain": [
       "array(['LY', 'MA', 'EG', 'LB', 'SD'], dtype=object)"
      ]
     },
     "execution_count": 6,
     "metadata": {},
     "output_type": "execute_result"
    }
   ],
   "source": [
    "labels.dialect.unique()"
   ]
  },
  {
   "attachments": {},
   "cell_type": "markdown",
   "metadata": {},
   "source": [
    "### Preprocessing"
   ]
  },
  {
   "attachments": {},
   "cell_type": "markdown",
   "metadata": {},
   "source": [
    "##### Replace new lines from the data with a space"
   ]
  },
  {
   "cell_type": "code",
   "execution_count": 7,
   "metadata": {},
   "outputs": [],
   "source": [
    "def replace_newlines(txt):\n",
    "    return txt.replace('\\n', ' ')"
   ]
  },
  {
   "attachments": {},
   "cell_type": "markdown",
   "metadata": {},
   "source": [
    "##### Removing tags (@user) and any consecutive spaces"
   ]
  },
  {
   "cell_type": "code",
   "execution_count": 8,
   "metadata": {},
   "outputs": [],
   "source": [
    "def remove_tag(txt):\n",
    "    return re.sub(r'@\\w+\\s*', '', txt)"
   ]
  },
  {
   "attachments": {},
   "cell_type": "markdown",
   "metadata": {},
   "source": [
    "##### Remove links and any consecutive spaces"
   ]
  },
  {
   "cell_type": "code",
   "execution_count": 9,
   "metadata": {},
   "outputs": [],
   "source": [
    "def remove_links(txt):\n",
    "    return re.sub(r'https?\\S+\\s*', '', txt)"
   ]
  },
  {
   "attachments": {},
   "cell_type": "markdown",
   "metadata": {},
   "source": [
    "##### Removing English sentences and any consecutive spaces"
   ]
  },
  {
   "cell_type": "code",
   "execution_count": 10,
   "metadata": {},
   "outputs": [],
   "source": [
    "def remove_english(txt):\n",
    "    return re.sub(r'[a-zA-Z]+\\s*', '', txt)"
   ]
  },
  {
   "attachments": {},
   "cell_type": "markdown",
   "metadata": {},
   "source": [
    "##### Remove all emojies and any consecutive spaces"
   ]
  },
  {
   "cell_type": "code",
   "execution_count": 11,
   "metadata": {},
   "outputs": [],
   "source": [
    "def remove_emoji(txt):\n",
    "    return emoji.replace_emoji(txt, '')"
   ]
  },
  {
   "attachments": {},
   "cell_type": "markdown",
   "metadata": {},
   "source": [
    "##### Remove unuseful marks <br>( These marks can be used for old style emojis )"
   ]
  },
  {
   "cell_type": "code",
   "execution_count": 12,
   "metadata": {},
   "outputs": [],
   "source": [
    "def remove_punctuation(txt):\n",
    "    return re.sub(r'[^\\w\\s]|[_]', '', txt)"
   ]
  },
  {
   "attachments": {},
   "cell_type": "markdown",
   "metadata": {},
   "source": [
    "##### Normalize laughter sounds (\"ههه\", \"هههه\") to a single instance (\"هه\")"
   ]
  },
  {
   "cell_type": "code",
   "execution_count": 13,
   "metadata": {},
   "outputs": [],
   "source": [
    "def map_laughter(txt):\n",
    "    return re.sub(r'(هه)ه+', 'هه', txt)"
   ]
  },
  {
   "attachments": {},
   "cell_type": "markdown",
   "metadata": {},
   "source": [
    "##### Remove repeated letters"
   ]
  },
  {
   "cell_type": "code",
   "execution_count": 14,
   "metadata": {},
   "outputs": [],
   "source": [
    "def remove_repeated_letters(txt):\n",
    "    return re.sub(r'(.)\\1{2,}', r'\\1', txt)"
   ]
  },
  {
   "attachments": {},
   "cell_type": "markdown",
   "metadata": {},
   "source": [
    "##### Remove numbers"
   ]
  },
  {
   "cell_type": "code",
   "execution_count": 23,
   "metadata": {},
   "outputs": [],
   "source": [
    "def remove_numbers(txt):\n",
    "    return re.sub(r'\\d+', '', txt)"
   ]
  },
  {
   "attachments": {},
   "cell_type": "markdown",
   "metadata": {},
   "source": [
    "##### Character normalization"
   ]
  },
  {
   "cell_type": "code",
   "execution_count": 15,
   "metadata": {},
   "outputs": [],
   "source": [
    "def normalize_arabic(txt):\n",
    "    return normalize.normalize_searchtext(txt)"
   ]
  },
  {
   "attachments": {},
   "cell_type": "markdown",
   "metadata": {},
   "source": [
    "##### Remove stop words"
   ]
  },
  {
   "cell_type": "code",
   "execution_count": 17,
   "metadata": {},
   "outputs": [],
   "source": [
    "def remove_stop_words(txt, stop_words):\n",
    "    return \" \".join([word for word in word_tokenize(txt) if word not in stop_words])"
   ]
  },
  {
   "attachments": {},
   "cell_type": "markdown",
   "metadata": {},
   "source": [
    "##### Remove repeated spaces"
   ]
  },
  {
   "cell_type": "code",
   "execution_count": 16,
   "metadata": {},
   "outputs": [],
   "source": [
    "def remove_repeated_spaces(txt):\n",
    "    return re.sub(r'\\s{2,}', ' ', txt).strip()"
   ]
  },
  {
   "attachments": {},
   "cell_type": "markdown",
   "metadata": {},
   "source": [
    "##### Preprocessing function"
   ]
  },
  {
   "cell_type": "code",
   "execution_count": 24,
   "metadata": {},
   "outputs": [],
   "source": [
    "def preprocessing(data, col_name='text'):\n",
    "    copy_data= data.copy()\n",
    "    copy_data[col_name]= copy_data[col_name].apply(replace_newlines)\n",
    "    copy_data[col_name]= copy_data[col_name].apply(remove_tag)\n",
    "    copy_data[col_name]= copy_data[col_name].apply(remove_links)\n",
    "    copy_data[col_name]= copy_data[col_name].apply(remove_english)\n",
    "    copy_data[col_name]= copy_data[col_name].apply(remove_emoji)\n",
    "    copy_data[col_name]= copy_data[col_name].apply(remove_punctuation)\n",
    "    copy_data[col_name]= copy_data[col_name].apply(map_laughter)\n",
    "    copy_data[col_name]= copy_data[col_name].apply(normalize_arabic)\n",
    "    copy_data[col_name]= copy_data[col_name].apply(remove_repeated_letters)\n",
    "    copy_data[col_name]= copy_data[col_name].apply(remove_numbers)\n",
    "    ar_stop_words = set(stopwords.words('arabic'))\n",
    "    ar_stop_words = [normalize_arabic(word) for word in ar_stop_words]\n",
    "    copy_data[col_name]= copy_data[col_name].apply(remove_stop_words, stop_words= ar_stop_words)\n",
    "    copy_data[col_name]= copy_data[col_name].apply(remove_repeated_spaces)\n",
    "    \n",
    "    return copy_data"
   ]
  },
  {
   "cell_type": "code",
   "execution_count": 25,
   "metadata": {},
   "outputs": [],
   "source": [
    "clean_data= preprocessing(data)"
   ]
  },
  {
   "cell_type": "code",
   "execution_count": 22,
   "metadata": {},
   "outputs": [
    {
     "data": {
      "text/html": [
       "<div>\n",
       "<style scoped>\n",
       "    .dataframe tbody tr th:only-of-type {\n",
       "        vertical-align: middle;\n",
       "    }\n",
       "\n",
       "    .dataframe tbody tr th {\n",
       "        vertical-align: top;\n",
       "    }\n",
       "\n",
       "    .dataframe thead th {\n",
       "        text-align: right;\n",
       "    }\n",
       "</style>\n",
       "<table border=\"1\" class=\"dataframe\">\n",
       "  <thead>\n",
       "    <tr style=\"text-align: right;\">\n",
       "      <th></th>\n",
       "      <th>id</th>\n",
       "      <th>text</th>\n",
       "      <th>dialect</th>\n",
       "    </tr>\n",
       "  </thead>\n",
       "  <tbody>\n",
       "    <tr>\n",
       "      <th>55835</th>\n",
       "      <td>276858249440002048</td>\n",
       "      <td>@7ely طبعا الجبنه النستو نسيتك أصحابك</td>\n",
       "      <td>EG</td>\n",
       "    </tr>\n",
       "    <tr>\n",
       "      <th>109904</th>\n",
       "      <td>1173548858070224896</td>\n",
       "      <td>عفكرة ريحة عرقها بتسواك https://t.co/LMHBjxbXwN</td>\n",
       "      <td>LB</td>\n",
       "    </tr>\n",
       "    <tr>\n",
       "      <th>115073</th>\n",
       "      <td>991429222194401152</td>\n",
       "      <td>انا بس خلصت المباراة https://t.co/bozdGhWalF</td>\n",
       "      <td>LB</td>\n",
       "    </tr>\n",
       "    <tr>\n",
       "      <th>82486</th>\n",
       "      <td>860189352613347328</td>\n",
       "      <td>@amiraahmmed102 @han730oz لو الحب موجود هتتنازلي وهيقرفك وكل ما هتتنازلي اكتر هيقرفك اكتر وكل ما يحس انه امتلكك اكتر هيبعد اكتر حتى لو بيموت فيكي صدقيني</td>\n",
       "      <td>EG</td>\n",
       "    </tr>\n",
       "  </tbody>\n",
       "</table>\n",
       "</div>"
      ],
      "text/plain": [
       "                         id  \\\n",
       "55835    276858249440002048   \n",
       "109904  1173548858070224896   \n",
       "115073   991429222194401152   \n",
       "82486    860189352613347328   \n",
       "\n",
       "                                                                                                                                                            text  \\\n",
       "55835                                                                                                                      @7ely طبعا الجبنه النستو نسيتك أصحابك   \n",
       "109904                                                                                                           عفكرة ريحة عرقها بتسواك https://t.co/LMHBjxbXwN   \n",
       "115073                                                                                                              انا بس خلصت المباراة https://t.co/bozdGhWalF   \n",
       "82486   @amiraahmmed102 @han730oz لو الحب موجود هتتنازلي وهيقرفك وكل ما هتتنازلي اكتر هيقرفك اكتر وكل ما يحس انه امتلكك اكتر هيبعد اكتر حتى لو بيموت فيكي صدقيني   \n",
       "\n",
       "       dialect  \n",
       "55835       EG  \n",
       "109904      LB  \n",
       "115073      LB  \n",
       "82486       EG  "
      ]
     },
     "execution_count": 22,
     "metadata": {},
     "output_type": "execute_result"
    }
   ],
   "source": [
    "data.head(4)"
   ]
  },
  {
   "cell_type": "code",
   "execution_count": 20,
   "metadata": {},
   "outputs": [
    {
     "data": {
      "text/plain": [
       "55835                                                                                                                                                                                                                                  طبعا الجبنه النستو نسيتك اصحابك\n",
       "109904                                                                                                                                                                                                                                         عفكره ريحه عرقها بتسواك\n",
       "115073                                                                                                                                                                                                                                                   خلصت المباراه\n",
       "82486                                                                                                                                                       الحب موجود هتتنازلي وهيقرفك وكل هتتنازلي اكتر هيقرفك اكتر وكل يحس امتلكك اكتر هيبعد اكتر بيموت فيكي صدقيني\n",
       "15497                                                                                                                                                                                                        نظاره قراءه وله ضعف نظر باقي الموضوع نعتبر نفسي كانه شفته\n",
       "71110                                                                                                                                                                                                                   رايحه بينا فين مصر مش اللي سايقه والله ياجماعه\n",
       "28146                                                                                                                                                                                                                                       ولوو اهم شي يكترو السهرنين\n",
       "69537                                                                                                                                                                                                                                             عمره مقبوله شاء الله\n",
       "28664                                                                                                                                                           كبر الفرحه غامرتني الانتصارات بنغازي ماقدرتش نعبرعليها التريس لحظه تقدم ارواحها سبيل رسم الضحكه وجوهنا\n",
       "84599                                                                                                                                                                                                                           امال النكد فين مواعيده مش شايفه الجدول\n",
       "125480                                                                                                                                                                                                                                            بقضي وقتي ولاد ولادي\n",
       "141982                                                                                                                                                   حظي البلد دي نهاءي عايز يظبط اليوم الوحيد الضرب فيهو مشيت بتاع المطعم متاخر شديد وطلع عندو اخر عيشه وعمل سنده\n",
       "94216                                                                                                                                                                                                                         واضح التعليم نضيف النوعيات اللي بنقابلها\n",
       "110023                                                                                                                                                                                                                                           بطيقوا سميك تقيل الدم\n",
       "33605                                                                                                                                                                                        هه يوم نزيد نتاكد هدا الشخص عبيط واستغرب قناه متل سبورت انها يكون مراسلها\n",
       "122627                                                                                                                                                                                                                                 شو قصه دين النسوان شلفوا عالاخر\n",
       "26077                                                                                                                                                                                                                                      واخيرا لقيت حد متطمزط معايا\n",
       "5806                                                                                                                       ولله مانحكيلك ڤينيسيا رءيسي لان موضوع تجاري مشروع طول العمر عدي بيه سنه قدام تقعد تخلص اجار حق المبني يزيد مش ينقص فكره ممتازه تبي عرم فلوس\n",
       "11864                                                                                                                                                                                                                                             انست خوالك ولد خالتي\n",
       "102178                                                                                                                                                                                                    ضيعتو كتير كابتن فرص تخلص الماتش خالص بالتوفيق جاي باذن الله\n",
       "101622                                                                                                                                                                                                                                               ده انجاز كبير بني\n",
       "26743                                                                                                                                                                                                         ناس برضو عكس كله وحيشوفوك جوهره نادره زي نشوف فيك حبيبتي\n",
       "24035                                                                                                                                                                                                                                    نعاتبك معناها حاجه غاليه عندي\n",
       "41788                                                                                                                                                                                                   صاحب حساب شءون عربيه بيبعتلي صور حسمه عالخاص الحيوان يستحي شاذ\n",
       "80300                                                                                                                                                                                                                                          مبروك ياباسم ربنا يسعدك\n",
       "9649      اليهودي التاجر ماينوض نومه ياكل كاشيك عسل ويفتح الخزنه متعه ايشوف للذهب والفلوس ويسكر الخزنه ويطلع للمحل يفتح المحل ويقعمز قدام المحل ويحط ايده خده ايجي عمك المسلم ايقوله خيرك ايرد اليهودي ويقوله الله لايذوقك اللي ذقته يوريك اللي شفته ايرد ويقوله اللهم\n",
       "58066                                                                                                                                                                                                                                   مين قالك هبله كلهم خرفان محاله\n",
       "6972                                                                                                                                                                                                                         قويه ماللي ميت طبيا وين الشايب هلابالمشير\n",
       "39323                                                                                                                                                                   الامارات البحرين اليوم تنضم السعوديه بقي فقط الظلع الرابع لينضم مشغول اليوم عنده عمليه ارهابيه\n",
       "119885                                                                                                                                                                                                                                        طب سيارتك غسلتيها ساعتين\n",
       "87374                                                                                                                                                  تلاقي بتمجد ترامب النهارده تفهم اسباب القرار العالم كله بيتصرف طريقه اللي تغلبه العبه بلامبادء بلاانسانيه سوريا\n",
       "133183                                                                                                                                                                         شو بتحب اكتر حلاوه فستق بلا فستق بعرفك بتدخن رح جبلك دخان لانو العمله بالحبس هيي الدخان\n",
       "38493                                                                                                                                                                                             بربي الجزاير غتخورنا ناضت شي نهار حرب ماعلينا راه العسكري عندو مواهب\n",
       "29398                                                                                                                                                                                                                     توا العركه الشتاء والصيف توا العجاج شنو دخله\n",
       "6851                                                                                                                                                                                                                     اختي فلجامعه وماما طالعه ومخليني فلحوسه بروحي\n",
       "50398                                                                                                                                                                                  الناس اللي بتبعنا اليومين دول مين وعايزين بالظبط البلوك علاج اشكالكم جتكم القرف\n",
       "48128                                                                      زعلان عشان اليمن دوله مليانه ثروات معدنيه وموقع ماءي استراتيجي وبترول كامن بكر يستخرج وامكانيات سياحيه ضخمه وارض خصبه وموانيء وجزر مرعبه وشعب مصدر الحضاءه واللغه والقباءل اللي وصلت خراسان\n",
       "80502                                                                                                                                                                                                                               الخوض حياه الناس الشخصيه شء اخلاقي\n",
       "147048                                                                                                                                                                                                                                   ربنا يصلح حالنا تفرج شاء الله\n",
       "67915                                                                                                                                                                                                                                    فرق كبير البوست ده طالع متخلف\n",
       "61912                                                                                                                                                                                                                                             سلام فاهمني دايما هه\n",
       "119284                                                                                                                                                                                                                                                  تقبل النزله شك\n",
       "54255                                                                                                                                                                                                                                         نور بالقشطه ماشي بالزبده\n",
       "129253                                                                                                                                                                                                       صوتك قتلني احساسك شي مش طبيعي مش مسموح تبكينا هالقد منحبك\n",
       "48770                                                                                                                                                                                                                                       مهتم تفهم بدل الزياط وخلاص\n",
       "137131                                                                                                                                                                                                                                           اطهر بقعه ربنا يحميها\n",
       "128846                                                                                                                                                                                                                              بالناقص ترجعي بالناقص زباله عاهرات\n",
       "79452                                                                                                                                                                                                                                    ربنا يخليكو لينا ويديم المحبه\n",
       "84976                                                                                                                                                                                                                                 بلوك ريبورت فورا تضايقي نفسك ليه\n",
       "140069                                                                                                                                                                                                                        الامير هاري بسوق معاو مرتو بتحبو الاوربي\n",
       "55393                                      وبالنسبه لايام ثوره نفسها كانت الكاميرا بتجيب النيل الامور تمام محدش بيصور التحرير والشباب اللي بيثور ده ضمير مهني يافندم تعمد لنشر الاشاعات والاكاذيب لتضليل الناس وتشويه الثوار احنا الحال تدهور بينا مءخرا التدهور موجود\n",
       "103227                                                                                                                                                                                                                          يقطع الاسمنت عالحديد عالطوب الكل كليله\n",
       "63194                                                                                                                                                                                                                                                  روقان البال حوت\n",
       "75519                                                                                                                                                                                                                      كلام الرجاله بيتقال الرجاله انتي راجل سونيا\n",
       "15395                                                                                                                                                                      عبدالمجيدعبدالله ودي تكون ليا غيبتك يازين قربك ابسط حقوقي انك تحس فيا واحس بكل الاوقات جنبك\n",
       "64694                                                                                                                                           ارزاق فعلاواحنا قال اللي طول عمرنا زعلانين تويتر محجمنا بعدد الحروف اتاري العيب فينا احنا فعلا ياابن العم مش اللي يكتب\n",
       "21529                                                                                                                                                                                                  تهدي جيهه اتنوض جيهه وضع ليبيا رح يبقي الحاله ومش رح يتيغر 5 10\n",
       "11026                                                                                                                                                                                                                   ليا هلبا عالتويتر كنت سكانه نعتبر نازحه عايدون\n",
       "43732                                                                                                                                                                                                                                            حسيت براسي ودفعت كبير\n",
       "127916                                                                                                                                                                                                                         جد بستغرب منك هيك حكي يمكن مش راشيل كرم\n",
       "47342                                                                                                                                                                                                                                 السيسي شاف هاشتاج مشعايزينالسيسي\n",
       "119927                                                                                                                                                                                                   بعرف بدي قولها نزلت اللعبه يلي عم تلعبوها كلكم انتو عم تفلحوا\n",
       "118373                                                                         الشاشات يللي اخد راحتها بالبرامج وتعرض يللي بيسوا ويللي بيسوي ويصور انو البلد مرتع للعهر والقرف ومسلسلات صارت ركاءزها نامت معو وغرف النوم والتظلط الشخلعه وغيرو وغيرو هودي مين بيحاسبهم\n",
       "17497                                                                                                                                                                                                                                        الله غالب اللي توحل دبرله\n",
       "21226                                                                                                                                                                                                                اخدني رايح فين الريح يودي الريح يودي الخير مباركه\n",
       "109601                                                                                                                                                                                                                                وين الكاونت داون اللي كنت طاوشنا\n",
       "139589                                                                                                                                                                         المسجد جميل الروس هذولا يبنون مسجد شكل صاروخ نووي ويقولك لالا تولبان المفروض لالا صاروخ\n",
       "73917                                                                                                                                                                                                                       وكل فينا ماشي اتجاه هنبقي عكس دايما الحياه\n",
       "12185                                                                                                                                                                                                    انقنها مستحيله ربي مستحيله يبو تلمهم حاويه تركب فيهم بجولاطين\n",
       "23503                                                                                                                                                                                                                                           دير ابعت انتا هدا فالح\n",
       "129158                                                                                                                                                                                                       انو الوضع بلبنان برعايه الهواره مين الشاطر بالدبكه عالاول\n",
       "16329                                                                                                                                                                                                                                            تحساب روحك عقلت امالا\n",
       "89189                                                                                                                                                                                               حكايه اغنيه عدي النهار اللي البرامج دي احنا وصلنا لعصر النكسه خلاص\n",
       "16924                                                                                                                                                                                                                        عادي اهم شي طيبتي الغدي سلم بنيتي الشاطره\n",
       "88876                                                                                                                                                                          الجزيره الزفته دي عرفت ازاي نسبه المشاركه 7 وهما لسه ماخلصوش تصويت ياعيني الصدمه جننتهم\n",
       "57964                                                                                                                                                                                                                              يبقي اكيد مابتشتغليش تعرفي يعني شغل\n",
       "27283                                                                                                                                                                                                                                                  شاء الله طرابلس\n",
       "140727                                                                                                                                                                                              رافا بصراحه قرعته اصعب لقاها المحظوظ نوفاك يوصل النهاءي باقل مجهود\n",
       "20623                                                                                                                                                                         الجراد يابشر سلاح غبي والله حرام هكي ناس مدنين مش طرف النزاع يلي حاصل اللهم سلم الابرياء\n",
       "108616                                                                                                                                                                                                    اهضم هيك حبيت الحمدالله ردار هضامه مش سرعه وظبط مخالفه زايده\n",
       "112418                                                                                                                                                                                                             المدعي العام لاهاي مش عارف الله وين حاطوا باي لاهاي\n",
       "102340                                                                                                                                                                                                                                 ربنا يروق بالك ويحسن مزاجك ديما\n",
       "40182                                                                                                                                                                                                                                          توحشتك الكبيده اشكتعودي\n",
       "129784                                                                                                                                                                                                                                      مش ممكن كميه الرياء طبيعيه\n",
       "70878                                                                                                                                                احكم قاله كوشنر يخص مصر ودورها صفعهالقرن نتاكد اللي بيحصل واللي هيحصل واتمني مصر تخذل شعبها التفريط ارضها التبرير\n",
       "32404                                                                                                             سليمان دوغه قصدي الاخير كرتك محروق قدام الليبيين اليوم والا غدوه مزال قضاء بياخد مجراه الاشاعات وتشويه سمعه الليبيات بكذبت الاعتصاب الميدان ياحميدان\n",
       "41932                                                                                                                                                                                                                                                     جاتك مجاتنيش\n",
       "61136                                                                                                                                                                                                                                                       عايزه اعيش\n",
       "70694                                           شاهدت فيلم اجنبي قديم مش فاكره اسمه قصته اللي لفت نظري بدايه الفيلم تتر بدايه الفيلم رسوم متحركه انسان بيحاول يصعد السلم ويد فوقيه تقف بالمرصاد تكسر السلم فيحاول يمشي طريق تاني تسد الطرق فيحاول يسلك طريق تاني وهكذا\n",
       "115374                                                                                                                                                     كنا نضل نعمل ريفرش للتايم لاين يروح علينا تويت القرف الصاير قرف الناس صايرين بالكتير منعمل برمه منقرف منسكر\n",
       "14655                                                                                                                                                                                                                                                  ريت اوباما يطلع\n",
       "132892                                                                                                                                   الجواب بسيط لان مش السنه متل بعضهافرق كبير الوطني يللي بيهمه وطنه اكتر حياته وبين الخاين يللي بيبيع وطنه وطايفته كرمال الكرسي\n",
       "78089                                                                                                                                                                                                                     صفر عم الحكم الولا سون مش بعضه هيموت الاعفاء\n",
       "108965                                                                                                                                                                                                                                              احلي ابن خاله كيفك\n",
       "104462                                                                                                                          وده المفروض يحصل يتحاكموا مكان جريمتهم اتقبض عليهم سوريا يتحاكموا سوريا العراق ليبيا يتحاكموا مش لسه هاننقل وحقوق انسان وسجن واكل وشرب\n",
       "60556                                                                                                                                                                                   وبالصدفه المتاعلمين اللي دافعوا مافيا الفراخ اللي بيدافعوا مافيا اصحاب المخابز\n",
       "42299                                                                                                                                                                                                   مكنحملوش ممثل التواضع وتافه ومغرور وحركاته مبرهشه ومعنديش معاه\n",
       "86687                                                                                                                                                                           ولسه بقول ازاي صلاح مايجيبش جون رايحجايب احلي جون تقولش مخاوي اللعيبه كلها تفرح بصراحه\n",
       "14748                                                                                                                       جمهور اليوفي بالله قدرتوا ترقدوا الاربعه اللي توجع الاربعه اللي تخليك تنام الليل نهاءي الابطال 5 مباراه دوري ممكن تعويضها مش قادرين نرقدوا\n",
       "71419                                                                                                                                                                                                                                            ادي الجمل وادي الجمال\n",
       "Name: text, dtype: object"
      ]
     },
     "execution_count": 20,
     "metadata": {},
     "output_type": "execute_result"
    }
   ],
   "source": [
    "pd.set_option('display.max_colwidth', None)\n",
    "pd.set_option('display.max_row', None)\n",
    "clean_data.text[:100]"
   ]
  },
  {
   "cell_type": "code",
   "execution_count": null,
   "metadata": {},
   "outputs": [],
   "source": [
    "clean_data.to_csv(\"Cleaned.csv\")"
   ]
  }
 ],
 "metadata": {
  "kernelspec": {
   "display_name": "myenv",
   "language": "python",
   "name": "python3"
  },
  "language_info": {
   "codemirror_mode": {
    "name": "ipython",
    "version": 3
   },
   "file_extension": ".py",
   "mimetype": "text/x-python",
   "name": "python",
   "nbconvert_exporter": "python",
   "pygments_lexer": "ipython3",
   "version": "3.10.5"
  },
  "orig_nbformat": 4
 },
 "nbformat": 4,
 "nbformat_minor": 2
}
